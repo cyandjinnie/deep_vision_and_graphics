{
 "cells": [
  {
   "cell_type": "markdown",
   "metadata": {},
   "source": [
    "**Neural networks for road segmentation**\n",
    "========================"
   ]
  },
  {
   "cell_type": "markdown",
   "metadata": {},
   "source": [
    "Your next task is to train neural network to segment road on images from car cams."
   ]
  },
  {
   "cell_type": "markdown",
   "metadata": {},
   "source": [
    "The original dataset is provided by Karlsruhe Institute of Technology (http://www.cvlibs.net/datasets/kitti/eval_road.php). Their images are ±370x1270, but, for simlictiy, we will use 370x370 squares."
   ]
  },
  {
   "cell_type": "markdown",
   "metadata": {},
   "source": [
    "One can download the dataset from https://disk.yandex.ru/d/QPOw4hk84-se_w"
   ]
  },
  {
   "cell_type": "markdown",
   "metadata": {},
   "source": [
    "Here is an example of input data with corresponding ground truth:"
   ]
  },
  {
   "cell_type": "code",
   "execution_count": 1,
   "metadata": {},
   "outputs": [
    {
     "name": "stdout",
     "output_type": "stream",
     "text": [
      "Our main computing device is 'cpu'\n"
     ]
    }
   ],
   "source": [
    "import torch\n",
    "import torchvision\n",
    "import tqdm\n",
    "\n",
    "def get_computing_device():\n",
    "    if torch.cuda.is_available():\n",
    "        device = torch.device('cuda:2')\n",
    "    else:\n",
    "        device = torch.device('cpu')\n",
    "    return device\n",
    "\n",
    "device = get_computing_device()\n",
    "print(f\"Our main computing device is '{device}'\")"
   ]
  },
  {
   "cell_type": "code",
   "execution_count": 2,
   "metadata": {},
   "outputs": [],
   "source": [
    "import os\n",
    "import cv2\n",
    "import numpy as np\n",
    "\n",
    "import torchvision.transforms as transforms\n",
    "from torch.utils.data import Dataset\n",
    "\n",
    "import matplotlib.pyplot as plt\n",
    "%matplotlib inline"
   ]
  },
  {
   "cell_type": "code",
   "execution_count": 3,
   "metadata": {},
   "outputs": [],
   "source": [
    "def get_paths(path):\n",
    "    _, _, filenames = next(os.walk(path))\n",
    "\n",
    "    images_paths = []\n",
    "    for filename in sorted(filenames):            \n",
    "        images_paths.append(os.path.join(path, filename))\n",
    "    \n",
    "    return np.stack(images_paths)\n",
    "\n",
    "class RoadDataset(Dataset):\n",
    "    \"\"\"Feel free to rewrite it. For ex. cache all images in RAM to increase training speed\"\"\"\n",
    "    def __init__(self, images, masks, transform, aug=None,):\n",
    "        self.images = sorted(images)\n",
    "        self.masks = sorted(masks)\n",
    "        self.transform = transform\n",
    "        self.aug = aug\n",
    "        \n",
    "        self.n_variations = 1\n",
    "        self.__load_all_images_to_ram()\n",
    "        \n",
    "    def __load_image_pair(self, idx):\n",
    "        im_name = self.images[idx]\n",
    "        mask_name = self.masks[idx]\n",
    "        image = cv2.imread(im_name)[:,:,::-1] / 255.0  # ::-1 to convert from BGR to RGB\n",
    "        mask = cv2.imread(mask_name, cv2.IMREAD_GRAYSCALE)\n",
    "        mask = (mask > 0).astype(np.float32)\n",
    "        return image, mask\n",
    "        \n",
    "    def __load_all_images_to_ram(self):\n",
    "        self.__image_ram = []\n",
    "        self.__mask_ram = []\n",
    "        \n",
    "        for idx in range(len(self.images)):\n",
    "            im, msk = self.__load_image_pair(idx)\n",
    "            \n",
    "            for var in range(self.n_variations):\n",
    "                transformed_image = self.transform(im).float()\n",
    "                transformed_mask = self.transform(msk).float()            \n",
    "            \n",
    "                self.__image_ram.append(transformed_image)\n",
    "                self.__mask_ram.append(transformed_mask)\n",
    "    \n",
    "    def __len__(self):\n",
    "        return len(self.images) * self.n_variations\n",
    "    \n",
    "    def __getitem__(self, idx):        \n",
    "        image = self.__image_ram[idx]\n",
    "        mask = self.__mask_ram[idx]\n",
    "        \n",
    "        if self.aug:\n",
    "            sample = self.aug(\n",
    "                image=image,\n",
    "                mask=mask,\n",
    "            )\n",
    "        else:\n",
    "            sample = {\n",
    "                'image': image,\n",
    "                'mask': mask,\n",
    "            }\n",
    "        \n",
    "        return image, mask"
   ]
  },
  {
   "cell_type": "code",
   "execution_count": 4,
   "metadata": {},
   "outputs": [],
   "source": [
    "X_train = get_paths(\"data/train/images\")\n",
    "y_train = get_paths(\"data/train/gt\")\n",
    "\n",
    "UNET_INPUT_SIZE = 572\n",
    "ORIGIN_IMAGE_SIZE = 370\n",
    "PADDING_INPUT = (UNET_INPUT_SIZE - ORIGIN_IMAGE_SIZE) // 2\n",
    "UNET_INFERENCE_SIZE = 388\n",
    "PADDING_OUTPUT_MASK = (UNET_INFERENCE_SIZE - ORIGIN_IMAGE_SIZE) // 2\n",
    "\n",
    "transform = transforms.Compose([\n",
    "    transforms.ToTensor(),\n",
    "    transforms.ColorJitter(brightness=.5, hue=.3),\n",
    "    transforms.Pad(padding=PADDING_INPUT)\n",
    "])"
   ]
  },
  {
   "cell_type": "code",
   "execution_count": 5,
   "metadata": {},
   "outputs": [],
   "source": [
    "train_dataset = RoadDataset(X_train, y_train, transform)"
   ]
  },
  {
   "cell_type": "code",
   "execution_count": 6,
   "metadata": {},
   "outputs": [
    {
     "name": "stdout",
     "output_type": "stream",
     "text": [
      "torch.Size([1, 572, 572])\n"
     ]
    },
    {
     "data": {
      "text/plain": [
       "<matplotlib.image.AxesImage at 0x13f9b43d0>"
      ]
     },
     "execution_count": 6,
     "metadata": {},
     "output_type": "execute_result"
    },
    {
     "data": {
      "image/png": "[encoded data removed]",
      "text/plain": [
       "<Figure size 432x288 with 2 Axes>"
      ]
     },
     "metadata": {
      "needs_background": "light"
     },
     "output_type": "display_data"
    }
   ],
   "source": [
    "image, mask = train_dataset[110]\n",
    "\n",
    "print(mask.shape)\n",
    "\n",
    "plt.subplot(1, 2, 1)\n",
    "plt.imshow(image.permute(1, 2, 0))\n",
    "plt.subplot(1, 2, 2)\n",
    "plt.imshow(mask.permute(1, 2, 0).squeeze())"
   ]
  },
  {
   "cell_type": "markdown",
   "metadata": {},
   "source": [
    "Workflow:\n",
    "---\n",
    "* Choose correct loss function, write training loop and code for testing. Feel free to use previous HW for inspiration. \n",
    "* Train any segmentation neural network from scratch (for example U-Net) and achieve >= 0.75 IoU on test set (40% points). See function to calculate the metric below.\n",
    "* Use any pretrained model for image classification, convert it for segmentation by adding decoder (don't forget skip-connections) or usign dilated convolutions and achieve >= 0.87 IoU  on test set (60% points).\n",
    "\n",
    "You're not allowed to do only one thing: train your network on test set.\n",
    "\n",
    "----\n",
    "Your final solution will consist of an ipython notebook with code (for final networks training + any experiments with data) and test metric calculation.\n",
    "\n",
    "Feel free to ask in Telegram chat if something is not clear :3\n"
   ]
  },
  {
   "cell_type": "code",
   "execution_count": 7,
   "metadata": {},
   "outputs": [
    {
     "name": "stdout",
     "output_type": "stream",
     "text": [
      "Dataset length 648\n"
     ]
    }
   ],
   "source": [
    "print(f\"Dataset length {len(train_dataset)}\")"
   ]
  },
  {
   "cell_type": "markdown",
   "metadata": {},
   "source": [
    "Dataset is small so actively use data augmentation: rotations, flip, color-change etc. to prevent overfitting.\n",
    "\n",
    "Most likely you'll have to pad your images to 512x512 (it divides by 2^5=32, like U-Net wants). Use PadIfNeeded from Albumentations and central crop (see below) after prediction to calculate loss/metrics (you don't want to pay attention on padded values).\n",
    "\n",
    "----\n",
    "There is a hard data class imbalance in dataset, so the network output will be biased toward \"zero\" class. You can either tune the minimal probability threshold for the \"road\" class, or add class weights in optimized loss. You also can try to use softIoU or DICE loss."
   ]
  },
  {
   "cell_type": "markdown",
   "metadata": {},
   "source": [
    "Good luck!"
   ]
  },
  {
   "cell_type": "code",
   "execution_count": 8,
   "metadata": {},
   "outputs": [],
   "source": [
    "def load_test_dataset(path):\n",
    "    X_test = get_paths(os.path.join(path, \"images\"))\n",
    "    y_test = get_paths(os.path.join(path, \"gt\"))\n",
    "\n",
    "    transform = transforms.Compose([\n",
    "        transforms.ToTensor(),\n",
    "        transforms.ColorJitter(brightness=.5, hue=.3),\n",
    "        transforms.Pad(padding=PADDING_INPUT)\n",
    "    ])\n",
    "                       \n",
    "    return RoadDataset(X_test, y_test, transform)"
   ]
  },
  {
   "cell_type": "code",
   "execution_count": 9,
   "metadata": {},
   "outputs": [],
   "source": [
    "def evaluate(model):\n",
    "    \"\"\"Returns IoU score to evaluate the segmentation model\"\"\"\n",
    "    \n",
    "    scores = []\n",
    "    \n",
    "    for i in range(len(test_dataset)):\n",
    "        image, mask = test_dataset[i]\n",
    "        \n",
    "        pred_mask = model(image.to(device))\n",
    "        \n",
    "        iou_score = calc_iou(pred_mask, mask)\n",
    "        scores.append(iou_score)\n",
    "        \n",
    "    return sum(scores) / len(scores)"
   ]
  },
  {
   "cell_type": "code",
   "execution_count": 10,
   "metadata": {},
   "outputs": [],
   "source": [
    "def calc_iou(prediction, ground_truth):\n",
    "    n_images = len(prediction)\n",
    "    intersection, union = 0, 0\n",
    "    for i in range(n_images):\n",
    "        intersection += np.logical_and(prediction[i] > 0, ground_truth[i] > 0).astype(np.float32).sum() \n",
    "        union += np.logical_or(prediction[i] > 0, ground_truth[i] > 0).astype(np.float32).sum()\n",
    "    return float(intersection) / union"
   ]
  },
  {
   "cell_type": "code",
   "execution_count": 11,
   "metadata": {},
   "outputs": [],
   "source": [
    "def central_crop(images, size):\n",
    "    current_size = images.size(2)\n",
    "    border_len = (current_size - size) // 2\n",
    "    return images[:, :, border_len:current_size-border_len, border_len:current_size-border_len]"
   ]
  },
  {
   "cell_type": "code",
   "execution_count": 12,
   "metadata": {},
   "outputs": [],
   "source": [
    "import torch.nn as nn\n",
    "import torch.nn.functional as F"
   ]
  },
  {
   "cell_type": "code",
   "execution_count": 13,
   "metadata": {},
   "outputs": [],
   "source": [
    "class Conv2dBlock(nn.Module):\n",
    "    def __init__(self, in_channels, out_channels, dropout=False):\n",
    "        super().__init__() # initialize base class to track sub-layers, parameters, etc.\n",
    "        \n",
    "        self.dropout = dropout\n",
    "        \n",
    "        self.conv = nn.Conv2d(in_channels, out_channels, 3)\n",
    "        self.relu = nn.ReLU()\n",
    "        self.dropout = nn.Dropout(0.5)\n",
    "        self.bn = nn.BatchNorm2d(out_channels)\n",
    "        \n",
    "    def forward(self, x):\n",
    "        x = self.conv(x)\n",
    "        x = self.relu(x)\n",
    "        if self.dropout:\n",
    "            x = self.dropout(x)\n",
    "        x = self.bn(x)\n",
    "        return x"
   ]
  },
  {
   "cell_type": "code",
   "execution_count": 14,
   "metadata": {},
   "outputs": [],
   "source": [
    "class Crop(nn.Module):\n",
    "    def __init__(self, size):\n",
    "        super().__init__() # initialize base class to track sub-layers, parameters, etc.\n",
    "        self.size = size\n",
    "        \n",
    "    def forward(self, x):\n",
    "        return central_crop(x, self.size)"
   ]
  },
  {
   "cell_type": "code",
   "execution_count": 15,
   "metadata": {},
   "outputs": [],
   "source": [
    "class EncoderBlock(nn.Module):\n",
    "    def __init__(self, in_channels, out_channels, dropout=False, last=False):\n",
    "        super().__init__() # initialize base class to track sub-layers, parameters, etc.\n",
    "        self.conv1 = Conv2dBlock(in_channels, out_channels, dropout)\n",
    "        self.conv2 = Conv2dBlock(out_channels, out_channels, dropout)\n",
    "        self.pool = nn.MaxPool2d(2)\n",
    "        \n",
    "        self.last = last\n",
    "        \n",
    "    def forward(self, x):        \n",
    "        x = self.conv1(x)\n",
    "        x = self.conv2(x)\n",
    "        \n",
    "        if not self.last:\n",
    "            y = self.pool(x)\n",
    "        else:\n",
    "            y = x\n",
    "        \n",
    "        return y, x"
   ]
  },
  {
   "cell_type": "code",
   "execution_count": 16,
   "metadata": {},
   "outputs": [],
   "source": [
    "class UpConv2d(nn.Module):\n",
    "    def __init__(self, in_channels, out_channels, scale_factor=2):\n",
    "        super().__init__() # initialize base class to track sub-layers, parameters, etc.\n",
    "        self.conv = nn.Conv2d(in_channels, out_channels * scale_factor ** 2, 3, padding=1)\n",
    "        self.shuffle = nn.PixelShuffle(scale_factor)\n",
    "        \n",
    "    def forward(self, x):\n",
    "        x = self.conv(x)\n",
    "        x = self.shuffle(x)\n",
    "        return x"
   ]
  },
  {
   "cell_type": "code",
   "execution_count": 17,
   "metadata": {},
   "outputs": [],
   "source": [
    "class DecoderBlock(nn.Module):\n",
    "    def __init__(self, in_channels, mid_channels, out_channels, dropout=False):\n",
    "        super().__init__() # initialize base class to track sub-layers, parameters, etc.\n",
    "        self.upsample = UpConv2d(in_channels, mid_channels, scale_factor=2)\n",
    "        self.conv1 = Conv2dBlock(mid_channels * 2, out_channels, dropout)\n",
    "        self.conv2 = Conv2dBlock(out_channels, out_channels, dropout)\n",
    "        \n",
    "    def forward(self, x, y):\n",
    "        x = self.upsample(x)        \n",
    "        x = torch.cat((x, y), dim=1)\n",
    "        \n",
    "        x = self.conv1(x)\n",
    "        x = self.conv2(x)\n",
    "        return x"
   ]
  },
  {
   "cell_type": "code",
   "execution_count": 18,
   "metadata": {},
   "outputs": [],
   "source": [
    "class MaskOutputBlock(nn.Module):\n",
    "    def __init__(self, channels):\n",
    "        super().__init__() # initialize base class to track sub-layers, parameters, etc.\n",
    "        self.conv = nn.Conv2d(channels, 2, kernel_size=1)\n",
    "        \n",
    "    def forward(self, x):\n",
    "        x = self.conv(x)\n",
    "        return x"
   ]
  },
  {
   "cell_type": "code",
   "execution_count": 19,
   "metadata": {},
   "outputs": [],
   "source": [
    "class UNetModel(nn.Module):\n",
    "    def __init__(self):\n",
    "        super().__init__() # initialize base class to track sub-layers, parameters, etc.\n",
    "        self.enc1 = EncoderBlock(3, 64)\n",
    "        self.enc2 = EncoderBlock(64, 128)\n",
    "        self.enc3 = EncoderBlock(128, 256)\n",
    "        self.enc4 = EncoderBlock(256, 512)\n",
    "        self.enc5 = EncoderBlock(512, 1024, last=True)\n",
    "        \n",
    "        self.crop1 = Crop(392)\n",
    "        self.crop2 = Crop(200)\n",
    "        self.crop3 = Crop(104)\n",
    "        self.crop4 = Crop(56)\n",
    "        \n",
    "        self.dec1 = DecoderBlock(1024, 512, 512)\n",
    "        self.dec2 = DecoderBlock(512, 256, 256)\n",
    "        self.dec3 = DecoderBlock(256, 128, 128)\n",
    "        self.dec4 = DecoderBlock(128, 64, 64)\n",
    "        \n",
    "        self.out = MaskOutputBlock(64)\n",
    "    \n",
    "    def forward(self, x):\n",
    "        x, res_x = self.enc1(x)\n",
    "        x, res_y = self.enc2(x)\n",
    "        x, res_z = self.enc3(x)\n",
    "        x, res_p = self.enc4(x)\n",
    "        x, _ = self.enc5(x)\n",
    "        \n",
    "        x = self.dec1(x, self.crop4(res_p))\n",
    "        x = self.dec2(x, self.crop3(res_z))\n",
    "        x = self.dec3(x, self.crop2(res_y))\n",
    "        x = self.dec4(x, self.crop1(res_x))\n",
    "        \n",
    "        x = self.out(x)\n",
    "        \n",
    "        return x"
   ]
  },
  {
   "cell_type": "code",
   "execution_count": 20,
   "metadata": {},
   "outputs": [],
   "source": [
    "criterion = nn.CrossEntropyLoss()\n",
    "\n",
    "def balanced_segmentation_loss(ground_truth_mask, predicted_mask_probs):    \n",
    "    road_thres = 0.6\n",
    "    \n",
    "    ground_truth_mask = central_crop(ground_truth_mask, size=ORIGIN_IMAGE_SIZE)\n",
    "    predicted_mask_probs = central_crop(predicted_mask_probs, size=ORIGIN_IMAGE_SIZE)\n",
    "    \n",
    "    loss = criterion(predicted_mask_probs, ground_truth_mask.squeeze(dim=1).type(torch.LongTensor))\n",
    "    road_class_volume = torch.flatten(ground_truth_mask, start_dim=1).mean(dim=1)\n",
    "    \n",
    "    balance_multiplier = (1 - road_class_volume) / road_class_volume\n",
    "    \n",
    "    return (balance_multiplier * loss).mean()"
   ]
  },
  {
   "cell_type": "code",
   "execution_count": 21,
   "metadata": {},
   "outputs": [],
   "source": [
    "loss_fn = balanced_segmentation_loss\n",
    "model = UNetModel()\n",
    "opt = torch.optim.SGD(model.parameters(), lr=1e-3)"
   ]
  },
  {
   "cell_type": "code",
   "execution_count": 22,
   "metadata": {},
   "outputs": [],
   "source": [
    "from torch.utils.data import DataLoader\n",
    "data_loader = DataLoader(train_dataset, batch_size=1)"
   ]
  },
  {
   "cell_type": "code",
   "execution_count": null,
   "metadata": {},
   "outputs": [
    {
     "name": "stderr",
     "output_type": "stream",
     "text": [
      "\r",
      "  0%|          | 0/648 [00:00<?, ?it/s]"
     ]
    },
    {
     "name": "stdout",
     "output_type": "stream",
     "text": [
      "6.079393\n"
     ]
    },
    {
     "name": "stderr",
     "output_type": "stream",
     "text": [
      "\r",
      "  0%|          | 1/648 [00:16<2:58:24, 16.55s/it]"
     ]
    },
    {
     "name": "stdout",
     "output_type": "stream",
     "text": [
      "5.5137477\n"
     ]
    }
   ],
   "source": [
    "from IPython.display import clear_output\n",
    "from tqdm import tqdm, trange\n",
    "\n",
    "n_epochs = 20\n",
    "\n",
    "metrics = {'train_loss': [], 'val_iou': [] }\n",
    "\n",
    "for epoch in range(n_epochs):   \n",
    "    for x_batch, y_batch in tqdm(data_loader):           \n",
    "        preds = model(x_batch.to(device))\n",
    "        \n",
    "        loss = loss_fn(y_batch, preds)\n",
    "        metrics['train_loss'].append(float(loss))\n",
    "\n",
    "        loss.backward()\n",
    "        opt.step()\n",
    "        opt.zero_grad()\n",
    "        \n",
    "    metrics['val_iou'].append((epoch, evaluate(model)))\n",
    "\n",
    "    clear_output(True)\n",
    "    plt.figure(figsize=(12,4))\n",
    "    for i, (name, history) in enumerate(sorted(metrics.items())):\n",
    "        plt.subplot(1, len(metrics), i + 1)\n",
    "        plt.title(name)\n",
    "        plt.plot(*zip(*history))\n",
    "        plt.grid()\n",
    "    plt.show()"
   ]
  },
  {
   "cell_type": "code",
   "execution_count": null,
   "metadata": {},
   "outputs": [],
   "source": []
  }
 ],
 "metadata": {
  "kernelspec": {
   "display_name": "Python 3",
   "language": "python",
   "name": "python3"
  },
  "language_info": {
   "codemirror_mode": {
    "name": "ipython",
    "version": 3
   },
   "file_extension": ".py",
   "mimetype": "text/x-python",
   "name": "python",
   "nbconvert_exporter": "python",
   "pygments_lexer": "ipython3",
   "version": "3.8.7"
  }
 },
 "nbformat": 4,
 "nbformat_minor": 5
}
